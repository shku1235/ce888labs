{
 "cells": [
  {
   "cell_type": "markdown",
   "metadata": {
    "slideshow": {
     "slide_type": "slide"
    }
   },
   "source": [
    "# Latent Factor Models for Collaborative Filtering"
   ]
  },
  {
   "cell_type": "markdown",
   "metadata": {
    "slideshow": {
     "slide_type": "slide"
    }
   },
   "source": [
    "Load Pandas, we are going to need it for manipulating data"
   ]
  },
  {
   "cell_type": "code",
   "execution_count": 1,
   "metadata": {
    "collapsed": true,
    "slideshow": {
     "slide_type": "fragment"
    }
   },
   "outputs": [],
   "source": [
    "import pandas as pd\n",
    "import numpy as np\n",
    "from IPython.display import Image\n",
    "np.set_printoptions(precision = 3)"
   ]
  },
  {
   "cell_type": "markdown",
   "metadata": {
    "slideshow": {
     "slide_type": "slide"
    }
   },
   "source": [
    "Now load the data"
   ]
  },
  {
   "cell_type": "code",
   "execution_count": 2,
   "metadata": {
    "slideshow": {
     "slide_type": "fragment"
    }
   },
   "outputs": [
    {
     "name": "stdout",
     "output_type": "stream",
     "text": [
      "   The Call of Cthulhu   Frankenstein   Dracula   Neuromancer   Space Odyssey\n",
      "0                  8.0            2.0       NaN           5.0             4.0\n",
      "1                  3.0            2.0       NaN           7.0             7.0\n",
      "2                  9.0            NaN       7.0           8.0             5.0\n",
      "3                  NaN            NaN       7.0           8.0             9.0\n",
      "4                  NaN            1.0       8.0           3.0             7.0\n",
      "   Sex   Over60  key  user_id\n",
      "0  1.0      0.0    0        0\n",
      "1  0.0      1.0    0        1\n",
      "2  0.0      0.0    0        2\n",
      "3  1.0      0.0    0        3\n",
      "4  0.0      1.0    0        4\n",
      "   Critic0   Critic1  key  item_id\n",
      "0      0.3       0.9    0        0\n",
      "1      0.9       0.3    0        1\n",
      "2      0.6       0.4    0        2\n",
      "3      0.2       0.1    0        3\n",
      "4      0.7       0.8    0        4\n",
      "   Sex   Over60  key  user_id  Critic0   Critic1  item_id\n",
      "0  1.0      0.0    0        0      0.3       0.9        0\n",
      "1  1.0      0.0    0        0      0.9       0.3        1\n",
      "2  1.0      0.0    0        0      0.6       0.4        2\n",
      "3  1.0      0.0    0        0      0.2       0.1        3\n",
      "4  1.0      0.0    0        0      0.7       0.8        4\n",
      "\\begin{tabular}{lrrrrrrrr}\n",
      "\\toprule\n",
      "{} &  Sex &   Over60 &  key &  user\\_id &  Critic0 &   Critic1 &  item\\_id &  rating \\\\\n",
      "\\midrule\n",
      "2 &  1.0 &      0.0 &    0 &        0 &      0.6 &       0.4 &        2 &     NaN \\\\\n",
      "2 &  0.0 &      1.0 &    0 &        1 &      0.6 &       0.4 &        2 &     NaN \\\\\n",
      "1 &  0.0 &      0.0 &    0 &        2 &      0.9 &       0.3 &        1 &     NaN \\\\\n",
      "0 &  1.0 &      0.0 &    0 &        3 &      0.3 &       0.9 &        0 &     NaN \\\\\n",
      "1 &  1.0 &      0.0 &    0 &        3 &      0.9 &       0.3 &        1 &     NaN \\\\\n",
      "0 &  0.0 &      1.0 &    0 &        4 &      0.3 &       0.9 &        0 &     NaN \\\\\n",
      "3 &  0.0 &      0.0 &    0 &        5 &      0.2 &       0.1 &        3 &     NaN \\\\\n",
      "4 &  0.0 &      0.0 &    0 &        5 &      0.7 &       0.8 &        4 &     NaN \\\\\n",
      "2 &  0.0 &      0.0 &    0 &        6 &      0.6 &       0.4 &        2 &     NaN \\\\\n",
      "2 &  0.0 &      1.0 &    0 &        8 &      0.6 &       0.4 &        2 &     NaN \\\\\n",
      "1 &  1.0 &      0.0 &    0 &        9 &      0.9 &       0.3 &        1 &     NaN \\\\\n",
      "\\bottomrule\n",
      "\\end{tabular}\n",
      "\n"
     ]
    }
   ],
   "source": [
    "user_ratings_df = pd.read_csv(\"user_ratings.csv\")\n",
    "user_features_df = pd.read_csv(\"user_features.csv\")\n",
    "item_features_df = pd.read_csv(\"item_features.csv\")\n",
    "\n",
    "\n",
    "user_features_df[\"key\"] = 0\n",
    "user_features_df[\"user_id\"] = range(0,user_features_df.shape[0])\n",
    "item_features_df[\"key\"] = 0\n",
    "item_features_df[\"item_id\"] = range(0,item_features_df.shape[0])\n",
    "print user_ratings_df.head()\n",
    "print user_features_df.head()\n",
    "print item_features_df.head()\n",
    "\n",
    "merged_df = pd.merge(user_features_df, item_features_df,left_index=True,on=\"key\")\n",
    "merged_df[[\"item_id\", \"user_id\"]]\n",
    "\n",
    "\n",
    "print merged_df.head()\n",
    "\n",
    "merged_df[\"rating\"] = map(lambda ids: user_ratings_df.values[ids[1]][ids[2]], \n",
    "                          merged_df[[\"user_id\", \"item_id\"]].itertuples())\n",
    "\n",
    "train = merged_df.dropna()\n",
    "\n",
    "test = merged_df[merged_df.isnull().any(axis=1)]\n",
    "\n",
    "print test.to_latex()\n",
    "\n"
   ]
  },
  {
   "cell_type": "code",
   "execution_count": 4,
   "metadata": {
    "slideshow": {
     "slide_type": "slide"
    }
   },
   "outputs": [
    {
     "name": "stdout",
     "output_type": "stream",
     "text": [
      "\\begin{tabular}{lrrrr}\n",
      "\\toprule\n",
      "{} &  Critic0 &   Critic1 &  key &  item\\_id \\\\\n",
      "\\midrule\n",
      "0 &      0.3 &       0.9 &    0 &        0 \\\\\n",
      "1 &      0.9 &       0.3 &    0 &        1 \\\\\n",
      "2 &      0.6 &       0.4 &    0 &        2 \\\\\n",
      "3 &      0.2 &       0.1 &    0 &        3 \\\\\n",
      "4 &      0.7 &       0.8 &    0 &        4 \\\\\n",
      "\\bottomrule\n",
      "\\end{tabular}\n",
      "\n"
     ]
    }
   ],
   "source": [
    "n_latent_features = 2\n",
    "\n",
    "user_ratings = user_ratings_df.values\n",
    "latent_user_preferences = np.random.random((user_ratings.shape[0], n_latent_features))\n",
    "latent_item_features = np.random.random((user_ratings.shape[1],n_latent_features))\n",
    "\n",
    "user_features = user_features_df.values\n",
    "item_features = item_features_df.values\n",
    "\n",
    "print item_features_df.to_latex()\n",
    "\n",
    "\n",
    "user_features = np.concatenate([np.ones(shape = (user_features.shape[0],1)), user_features], axis = 1)\n",
    "item_features = np.concatenate([np.ones(shape = (item_features.shape[0],1)), item_features], axis = 1)\n",
    "\n",
    "\n",
    "\n",
    "user_features_weights = np.random.random((user_ratings.shape[0], user_features.shape[1] ))\n",
    "item_features_weights = np.random.random((user_ratings.shape[1],item_features.shape[1] ))\n",
    "\n",
    "\n",
    "\n",
    "# print user_features"
   ]
  },
  {
   "cell_type": "code",
   "execution_count": 5,
   "metadata": {
    "collapsed": true,
    "slideshow": {
     "slide_type": "slide"
    }
   },
   "outputs": [],
   "source": [
    "def predict_rating(user_id,item_id):\n",
    "    \"\"\" Predict a rating given a user_id and an item_id.\n",
    "    \"\"\"\n",
    "    user_preference = latent_user_preferences[user_id]\n",
    "    item_preference = latent_item_features[item_id]\n",
    "    \n",
    "    user_score = user_features_weights[user_id].dot(user_features[user_id])\n",
    "    item_score = item_features_weights[item_id].dot(item_features[item_id])\n",
    "    #print user_preference.dot(item_preference), user_score, item_score\n",
    "    return user_preference.dot(item_preference) + user_score + item_score\n",
    "\n",
    "def train(user_id, item_id, rating,alpha = 0.001, \n",
    "                                   latent_feature_weight_decay = 0.1, \n",
    "                                   user_weight_decay = 0.01,\n",
    "                                   item_weight_decay = 0.0001):\n",
    "    \n",
    "    #print item_id\n",
    "    prediction_rating = predict_rating(user_id, item_id)\n",
    "    err =  ( prediction_rating - rating );\n",
    "    #print err\n",
    "    user_pref_values = latent_user_preferences[user_id][:]\n",
    "    latent_user_preferences[user_id] -= alpha * err *  ( latent_item_features[item_id] + latent_feature_weight_decay*latent_user_preferences[user_id])\n",
    "    latent_item_features[item_id] -= alpha * err * ( user_pref_values + latent_feature_weight_decay*latent_item_features[item_id])\n",
    "    \n",
    "    user_features_weights[user_id] -=alpha * err *(  user_features[user_id] + user_weight_decay* user_features_weights[user_id])\n",
    "    item_features_weights[item_id] -=alpha * err * ( item_features_weights[item_id] + item_weight_decay* item_features_weights[item_id])\n",
    "    \n",
    "    \n",
    "    return err\n",
    "    \n",
    "\n",
    "\n",
    "def sgd(iterations = 30000):\n",
    "    \"\"\" Iterate over all users and all items and train for \n",
    "        a certain number of iterations\n",
    "    \"\"\"\n",
    "    for iteration in range(0,iterations):\n",
    "        error = []\n",
    "        for user_id in range(0,latent_user_preferences.shape[0]):\n",
    "            for item_id in range(0,latent_item_features.shape[0]):\n",
    "                rating = user_ratings[user_id][item_id]\n",
    "                if(not np.isnan(rating)):\n",
    "                    err = train(user_id,item_id,rating)\n",
    "                    error.append(err)\n",
    "    mse = (np.array(error) ** 2).mean()          \n",
    "    print mse\n",
    "                    \n",
    "                    \n",
    "    \n",
    "                    \n",
    "                    \n",
    "    \n"
   ]
  },
  {
   "cell_type": "code",
   "execution_count": 6,
   "metadata": {
    "slideshow": {
     "slide_type": "fragment"
    }
   },
   "outputs": [
    {
     "name": "stdout",
     "output_type": "stream",
     "text": [
      "0.282365149806\n",
      "0.277316788591\n",
      "0.275765898638\n",
      "0.274994491683\n",
      "0.274532470124\n",
      "0.274228559206\n",
      "0.274018512263\n",
      "0.273870242834\n",
      "0.273765938628\n",
      "0.273694969315\n"
     ]
    }
   ],
   "source": [
    "for _ in range(0,10): \n",
    "    sgd()"
   ]
  },
  {
   "cell_type": "code",
   "execution_count": 7,
   "metadata": {
    "slideshow": {
     "slide_type": "slide"
    }
   },
   "outputs": [
    {
     "name": "stdout",
     "output_type": "stream",
     "text": [
      "[[ 1.591  2.076  0.52   0.292  0.885]\n",
      " [-0.345  0.263 -0.511  0.125 -0.388]\n",
      " [ 0.932  0.501  0.349  0.734  1.696]\n",
      " [ 0.422  1.185  0.519  0.094  1.1  ]\n",
      " [ 0.045  0.64   0.42   0.975  0.297]\n",
      " [-0.171  0.532  0.214  0.025 -1.78 ]\n",
      " [ 0.708  0.208  0.761  0.735  0.002]\n",
      " [-0.047  0.274  0.118  0.373  0.344]\n",
      " [-0.012  0.614 -0.089  0.237 -0.164]\n",
      " [ 0.387  0.641  0.598  0.686 -0.101]]\n",
      "[[ 1.984  2.486  1.931  2.358  2.87 ]\n",
      " [ 0.161  0.515  0.448  0.314  0.171]\n",
      " [ 0.069  0.098  0.667  0.594  0.647]\n",
      " [ 0.013  0.026  1.451  0.798  1.339]\n",
      " [ 0.074  0.138  0.006  0.175  0.082]]\n"
     ]
    }
   ],
   "source": [
    "predictions = np.zeros(shape = (latent_user_preferences.shape[0], latent_item_features.shape[0]) )\n",
    "#print latent_user_preferences\n",
    "print user_features_weights\n",
    "print item_features_weights\n",
    "for user_id in range(0,latent_user_preferences.shape[0]):\n",
    "            for item_id in range(0,latent_item_features.shape[0]):\n",
    "                predictions[user_id,item_id] =  predict_rating(user_id,item_id)\n",
    "\n",
    "  "
   ]
  },
  {
   "cell_type": "code",
   "execution_count": 8,
   "metadata": {
    "slideshow": {
     "slide_type": "slide"
    }
   },
   "outputs": [
    {
     "ename": "NameError",
     "evalue": "name 'data' is not defined",
     "output_type": "error",
     "traceback": [
      "\u001b[0;31m---------------------------------------------------------------------------\u001b[0m",
      "\u001b[0;31mNameError\u001b[0m                                 Traceback (most recent call last)",
      "\u001b[0;32m<ipython-input-8-1f75ee880dd5>\u001b[0m in \u001b[0;36m<module>\u001b[0;34m()\u001b[0m\n\u001b[1;32m      1\u001b[0m \u001b[0mvalues\u001b[0m \u001b[0;34m=\u001b[0m \u001b[0;34m[\u001b[0m\u001b[0mzip\u001b[0m\u001b[0;34m(\u001b[0m\u001b[0muser_ratings\u001b[0m\u001b[0;34m[\u001b[0m\u001b[0mi\u001b[0m\u001b[0;34m]\u001b[0m\u001b[0;34m,\u001b[0m \u001b[0mpredictions\u001b[0m\u001b[0;34m[\u001b[0m\u001b[0mi\u001b[0m\u001b[0;34m]\u001b[0m\u001b[0;34m)\u001b[0m \u001b[0;32mfor\u001b[0m \u001b[0mi\u001b[0m \u001b[0;32min\u001b[0m \u001b[0mrange\u001b[0m\u001b[0;34m(\u001b[0m\u001b[0;36m0\u001b[0m\u001b[0;34m,\u001b[0m\u001b[0mpredictions\u001b[0m\u001b[0;34m.\u001b[0m\u001b[0mshape\u001b[0m\u001b[0;34m[\u001b[0m\u001b[0;36m0\u001b[0m\u001b[0;34m]\u001b[0m\u001b[0;34m)\u001b[0m\u001b[0;34m]\u001b[0m\u001b[0;34m\u001b[0m\u001b[0m\n\u001b[1;32m      2\u001b[0m \u001b[0mcomparison_data\u001b[0m \u001b[0;34m=\u001b[0m \u001b[0mpd\u001b[0m\u001b[0;34m.\u001b[0m\u001b[0mDataFrame\u001b[0m\u001b[0;34m(\u001b[0m\u001b[0mvalues\u001b[0m\u001b[0;34m)\u001b[0m\u001b[0;34m\u001b[0m\u001b[0m\n\u001b[0;32m----> 3\u001b[0;31m \u001b[0mcomparison_data\u001b[0m\u001b[0;34m.\u001b[0m\u001b[0mcolumns\u001b[0m \u001b[0;34m=\u001b[0m \u001b[0mdata\u001b[0m\u001b[0;34m.\u001b[0m\u001b[0mcolumns\u001b[0m\u001b[0;34m\u001b[0m\u001b[0m\n\u001b[0m\u001b[1;32m      4\u001b[0m \u001b[0mcomparison_data\u001b[0m\u001b[0;34m.\u001b[0m\u001b[0mapplymap\u001b[0m\u001b[0;34m(\u001b[0m\u001b[0;32mlambda\u001b[0m \u001b[0;34m(\u001b[0m\u001b[0mx\u001b[0m\u001b[0;34m,\u001b[0m\u001b[0my\u001b[0m\u001b[0;34m)\u001b[0m\u001b[0;34m:\u001b[0m \u001b[0;34m\"(%2.3f|%2.3f)\"\u001b[0m\u001b[0;34m%\u001b[0m\u001b[0;34m(\u001b[0m\u001b[0mx\u001b[0m\u001b[0;34m,\u001b[0m\u001b[0my\u001b[0m\u001b[0;34m)\u001b[0m\u001b[0;34m)\u001b[0m\u001b[0;34m\u001b[0m\u001b[0m\n",
      "\u001b[0;31mNameError\u001b[0m: name 'data' is not defined"
     ]
    }
   ],
   "source": [
    "values = [zip(user_ratings[i], predictions[i]) for i in range(0,predictions.shape[0])]\n",
    "comparison_data = pd.DataFrame(values)\n",
    "comparison_data.columns = data.columns\n",
    "comparison_data.applymap(lambda (x,y): \"(%2.3f|%2.3f)\"%(x,y))"
   ]
  },
  {
   "cell_type": "code",
   "execution_count": 8,
   "metadata": {
    "slideshow": {
     "slide_type": "fragment"
    }
   },
   "outputs": [
    {
     "data": {
      "text/html": [
       "<div>\n",
       "<table border=\"1\" class=\"dataframe\">\n",
       "  <thead>\n",
       "    <tr style=\"text-align: right;\">\n",
       "      <th></th>\n",
       "      <th>The Call of Cthulhu</th>\n",
       "      <th>Frankenstein</th>\n",
       "      <th>Dracula</th>\n",
       "      <th>Neuromancer</th>\n",
       "      <th>Space Odyssey</th>\n",
       "    </tr>\n",
       "  </thead>\n",
       "  <tbody>\n",
       "    <tr>\n",
       "      <th>0</th>\n",
       "      <td>(8.0, 8.00753213201)</td>\n",
       "      <td>(2.0, 1.68132476702)</td>\n",
       "      <td>(nan, -0.816458005082)</td>\n",
       "      <td>(5.0, 5.24534140815)</td>\n",
       "      <td>(4.0, 4.07284713322)</td>\n",
       "    </tr>\n",
       "    <tr>\n",
       "      <th>1</th>\n",
       "      <td>(3.0, 2.9651437535)</td>\n",
       "      <td>(2.0, 2.77574260418)</td>\n",
       "      <td>(nan, 20.371555042)</td>\n",
       "      <td>(7.0, 6.42856542196)</td>\n",
       "      <td>(7.0, 6.82402220025)</td>\n",
       "    </tr>\n",
       "    <tr>\n",
       "      <th>2</th>\n",
       "      <td>(9.0, 9.17066467322)</td>\n",
       "      <td>(nan, 3.72857419036)</td>\n",
       "      <td>(7.0, 7.05097693395)</td>\n",
       "      <td>(8.0, 7.74902903692)</td>\n",
       "      <td>(5.0, 5.02693050564)</td>\n",
       "    </tr>\n",
       "    <tr>\n",
       "      <th>3</th>\n",
       "      <td>(nan, 8.89059466545)</td>\n",
       "      <td>(nan, 4.80400274168)</td>\n",
       "      <td>(7.0, 7.00071427519)</td>\n",
       "      <td>(8.0, 8.00026744083)</td>\n",
       "      <td>(9.0, 9.00146942092)</td>\n",
       "    </tr>\n",
       "    <tr>\n",
       "      <th>4</th>\n",
       "      <td>(nan, 2.04931531603)</td>\n",
       "      <td>(1.0, 0.605664829651)</td>\n",
       "      <td>(8.0, 7.99524753077)</td>\n",
       "      <td>(3.0, 3.31531949311)</td>\n",
       "      <td>(7.0, 7.09230434669)</td>\n",
       "    </tr>\n",
       "    <tr>\n",
       "      <th>5</th>\n",
       "      <td>(2.0, 2.01498637399)</td>\n",
       "      <td>(3.0, 2.96545438759)</td>\n",
       "      <td>(5.0, 5.00171715631)</td>\n",
       "      <td>(nan, 3.70906735537)</td>\n",
       "      <td>(nan, 16.1046429873)</td>\n",
       "    </tr>\n",
       "    <tr>\n",
       "      <th>6</th>\n",
       "      <td>(4.0, 4.10071806365)</td>\n",
       "      <td>(2.0, 0.584157794895)</td>\n",
       "      <td>(nan, -0.615769387347)</td>\n",
       "      <td>(2.0, 2.9904970354)</td>\n",
       "      <td>(7.0, 7.3316935937)</td>\n",
       "    </tr>\n",
       "    <tr>\n",
       "      <th>7</th>\n",
       "      <td>(7.0, 6.92484500343)</td>\n",
       "      <td>(1.0, 2.88968696942)</td>\n",
       "      <td>(2.0, 2.01830509523)</td>\n",
       "      <td>(7.0, 5.59586294301)</td>\n",
       "      <td>(9.0, 8.57455552152)</td>\n",
       "    </tr>\n",
       "    <tr>\n",
       "      <th>8</th>\n",
       "      <td>(3.0, 3.05046895637)</td>\n",
       "      <td>(3.0, 2.52948108941)</td>\n",
       "      <td>(nan, 26.4577215043)</td>\n",
       "      <td>(7.0, 7.30250562055)</td>\n",
       "      <td>(3.0, 3.11091030954)</td>\n",
       "    </tr>\n",
       "    <tr>\n",
       "      <th>9</th>\n",
       "      <td>(4.0, 3.7436458588)</td>\n",
       "      <td>(nan, -0.186539411277)</td>\n",
       "      <td>(5.0, 4.92523954912)</td>\n",
       "      <td>(3.0, 3.37640884275)</td>\n",
       "      <td>(3.0, 2.95913673392)</td>\n",
       "    </tr>\n",
       "  </tbody>\n",
       "</table>\n",
       "</div>"
      ],
      "text/plain": [
       "    The Call of Cthulhu            Frankenstein                 Dracula  \\\n",
       "0  (8.0, 8.00753213201)    (2.0, 1.68132476702)  (nan, -0.816458005082)   \n",
       "1   (3.0, 2.9651437535)    (2.0, 2.77574260418)     (nan, 20.371555042)   \n",
       "2  (9.0, 9.17066467322)    (nan, 3.72857419036)    (7.0, 7.05097693395)   \n",
       "3  (nan, 8.89059466545)    (nan, 4.80400274168)    (7.0, 7.00071427519)   \n",
       "4  (nan, 2.04931531603)   (1.0, 0.605664829651)    (8.0, 7.99524753077)   \n",
       "5  (2.0, 2.01498637399)    (3.0, 2.96545438759)    (5.0, 5.00171715631)   \n",
       "6  (4.0, 4.10071806365)   (2.0, 0.584157794895)  (nan, -0.615769387347)   \n",
       "7  (7.0, 6.92484500343)    (1.0, 2.88968696942)    (2.0, 2.01830509523)   \n",
       "8  (3.0, 3.05046895637)    (3.0, 2.52948108941)    (nan, 26.4577215043)   \n",
       "9   (4.0, 3.7436458588)  (nan, -0.186539411277)    (5.0, 4.92523954912)   \n",
       "\n",
       "            Neuromancer         Space Odyssey  \n",
       "0  (5.0, 5.24534140815)  (4.0, 4.07284713322)  \n",
       "1  (7.0, 6.42856542196)  (7.0, 6.82402220025)  \n",
       "2  (8.0, 7.74902903692)  (5.0, 5.02693050564)  \n",
       "3  (8.0, 8.00026744083)  (9.0, 9.00146942092)  \n",
       "4  (3.0, 3.31531949311)  (7.0, 7.09230434669)  \n",
       "5  (nan, 3.70906735537)  (nan, 16.1046429873)  \n",
       "6   (2.0, 2.9904970354)   (7.0, 7.3316935937)  \n",
       "7  (7.0, 5.59586294301)  (9.0, 8.57455552152)  \n",
       "8  (7.0, 7.30250562055)  (3.0, 3.11091030954)  \n",
       "9  (3.0, 3.37640884275)  (3.0, 2.95913673392)  "
      ]
     },
     "execution_count": 8,
     "metadata": {},
     "output_type": "execute_result"
    }
   ],
   "source": [
    "comparison_data"
   ]
  },
  {
   "cell_type": "code",
   "execution_count": 9,
   "metadata": {
    "collapsed": true
   },
   "outputs": [],
   "source": [
    "d = comparison_data.to_latex()\n",
    "text_file = open(\"comparison.txt\", \"w\")\n",
    "text_file.write(d)\n",
    "text_file.close()"
   ]
  },
  {
   "cell_type": "code",
   "execution_count": null,
   "metadata": {
    "collapsed": true
   },
   "outputs": [],
   "source": []
  },
  {
   "cell_type": "code",
   "execution_count": null,
   "metadata": {
    "collapsed": true
   },
   "outputs": [],
   "source": []
  },
  {
   "cell_type": "code",
   "execution_count": null,
   "metadata": {
    "collapsed": true
   },
   "outputs": [],
   "source": []
  },
  {
   "cell_type": "code",
   "execution_count": null,
   "metadata": {
    "collapsed": true
   },
   "outputs": [],
   "source": []
  }
 ],
 "metadata": {
  "kernelspec": {
   "display_name": "Python 2",
   "language": "python",
   "name": "python2"
  },
  "language_info": {
   "codemirror_mode": {
    "name": "ipython",
    "version": 2
   },
   "file_extension": ".py",
   "mimetype": "text/x-python",
   "name": "python",
   "nbconvert_exporter": "python",
   "pygments_lexer": "ipython2",
   "version": "2.7.14"
  }
 },
 "nbformat": 4,
 "nbformat_minor": 1
}
