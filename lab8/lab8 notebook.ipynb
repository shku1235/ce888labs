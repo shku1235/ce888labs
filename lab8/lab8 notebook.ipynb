{
 "cells": [
  {
   "cell_type": "code",
   "execution_count": 3,
   "metadata": {},
   "outputs": [],
   "source": [
    "\n",
    "from __future__ import print_function\n",
    "import numpy as np\n",
    "np.random.seed(1337)  # for reproducibility\n",
    "\n",
    "from keras.preprocessing import sequence\n",
    "from keras.models import Model\n",
    "from keras.layers import Dense, Activation, Embedding, Flatten, Input\n",
    "from keras.datasets import imdb\n",
    "\n"
   ]
  },
  {
   "cell_type": "code",
   "execution_count": 5,
   "metadata": {},
   "outputs": [
    {
     "name": "stdout",
     "output_type": "stream",
     "text": [
      "Loading data...\n",
      "25000 train sequences\n",
      "25000 test sequences\n",
      "[1, 14, 22, 16, 43, 530, 973, 1622, 1385, 65, 458, 4468, 66, 3941, 4, 173, 36, 256, 5, 25, 100, 43, 838, 112, 50, 670, 2, 9, 35, 480, 284, 5, 150, 4, 172, 112, 167, 2, 336, 385, 39, 4, 172, 4536, 1111, 17, 546, 38, 13, 447, 4, 192, 50, 16, 6, 147, 2025, 19, 14, 22, 4, 1920, 4613, 469, 4, 22, 71, 87, 12, 16, 43, 530, 38, 76, 15, 13, 1247, 4, 22, 17, 515, 17, 12, 16, 626, 18, 19193, 5, 62, 386, 12, 8, 316, 8, 106, 5, 4, 2223, 5244, 16, 480, 66, 3785, 33, 4, 130, 12, 16, 38, 619, 5, 25, 124, 51, 36, 135, 48, 25, 1415, 33, 6, 22, 12, 215, 28, 77, 52, 5, 14, 407, 16, 82, 10311, 8, 4, 107, 117, 5952, 15, 256, 4, 2, 7, 3766, 5, 723, 36, 71, 43, 530, 476, 26, 400, 317, 46, 7, 4, 12118, 1029, 13, 104, 88, 4, 381, 15, 297, 98, 32, 2071, 56, 26, 141, 6, 194, 7486, 18, 4, 226, 22, 21, 134, 476, 26, 480, 5, 144, 30, 5535, 18, 51, 36, 28, 224, 92, 25, 104, 4, 226, 65, 16, 38, 1334, 88, 12, 16, 283, 5, 16, 4472, 113, 103, 32, 15, 16, 5345, 19, 178, 32]\n",
      "Pad sequences (samples x time)\n",
      "X_train shape: (25000, 80)\n",
      "X_test shape: (25000, 80)\n",
      "Build model...\n",
      "Train...\n"
     ]
    },
    {
     "name": "stderr",
     "output_type": "stream",
     "text": [
      "/anaconda2/lib/python2.7/site-packages/ipykernel_launcher.py:23: UserWarning: The `dropout` argument is no longer support in `Embedding`. You can apply a `keras.layers.SpatialDropout1D` layer right after the `Embedding` layer to get the same behavior.\n",
      "/anaconda2/lib/python2.7/site-packages/ipykernel_launcher.py:29: UserWarning: Update your `Model` call to the Keras 2 API: `Model(outputs=Tensor(\"ac..., inputs=Tensor(\"in...)`\n",
      "/anaconda2/lib/python2.7/site-packages/ipykernel_launcher.py:36: UserWarning: The `nb_epoch` argument in `fit` has been renamed `epochs`.\n"
     ]
    },
    {
     "name": "stdout",
     "output_type": "stream",
     "text": [
      "Train on 25000 samples, validate on 25000 samples\n",
      "Epoch 1/15\n",
      "25000/25000 [==============================] - 35s 1ms/step - loss: 0.4513 - acc: 0.7858 - val_loss: 0.3521 - val_acc: 0.8415\n",
      "Epoch 2/15\n",
      "25000/25000 [==============================] - 37s 1ms/step - loss: 0.1756 - acc: 0.9380 - val_loss: 0.3662 - val_acc: 0.8402\n",
      "Epoch 3/15\n",
      "25000/25000 [==============================] - 37s 1ms/step - loss: 0.0361 - acc: 0.9962 - val_loss: 0.4074 - val_acc: 0.8378\n",
      "Epoch 4/15\n",
      "25000/25000 [==============================] - 38s 2ms/step - loss: 0.0083 - acc: 0.9998 - val_loss: 0.4372 - val_acc: 0.8398\n",
      "Epoch 5/15\n",
      "25000/25000 [==============================] - 36s 1ms/step - loss: 0.0035 - acc: 1.0000 - val_loss: 0.4658 - val_acc: 0.8398\n",
      "Epoch 6/15\n",
      "25000/25000 [==============================] - 35s 1ms/step - loss: 0.0017 - acc: 1.0000 - val_loss: 0.4904 - val_acc: 0.8404\n",
      "Epoch 7/15\n",
      "25000/25000 [==============================] - 43s 2ms/step - loss: 9.7111e-04 - acc: 1.0000 - val_loss: 0.5143 - val_acc: 0.8395\n",
      "Epoch 8/15\n",
      "25000/25000 [==============================] - 44s 2ms/step - loss: 5.9045e-04 - acc: 1.0000 - val_loss: 0.5376 - val_acc: 0.8391\n",
      "Epoch 9/15\n",
      "25000/25000 [==============================] - 40s 2ms/step - loss: 3.5147e-04 - acc: 1.0000 - val_loss: 0.5596 - val_acc: 0.8387\n",
      "Epoch 10/15\n",
      "25000/25000 [==============================] - 46s 2ms/step - loss: 2.1792e-04 - acc: 1.0000 - val_loss: 0.5817 - val_acc: 0.8389\n",
      "Epoch 11/15\n",
      "25000/25000 [==============================] - 45s 2ms/step - loss: 1.3732e-04 - acc: 1.0000 - val_loss: 0.6032 - val_acc: 0.8383\n",
      "Epoch 12/15\n",
      "25000/25000 [==============================] - 43s 2ms/step - loss: 8.7420e-05 - acc: 1.0000 - val_loss: 0.6246 - val_acc: 0.8386\n",
      "Epoch 13/15\n",
      "25000/25000 [==============================] - 46s 2ms/step - loss: 5.5908e-05 - acc: 1.0000 - val_loss: 0.6454 - val_acc: 0.8380\n",
      "Epoch 14/15\n",
      "25000/25000 [==============================] - 35s 1ms/step - loss: 3.6048e-05 - acc: 1.0000 - val_loss: 0.6670 - val_acc: 0.8376\n",
      "Epoch 15/15\n",
      "25000/25000 [==============================] - 48s 2ms/step - loss: 2.3444e-05 - acc: 1.0000 - val_loss: 0.6872 - val_acc: 0.8366\n",
      "25000/25000 [==============================] - 1s 47us/step\n",
      "Test score: 0.6872025597977638\n",
      "Test accuracy: 0.8366\n"
     ]
    }
   ],
   "source": [
    "max_features = 20000\n",
    "maxlen = 80  # cut texts after this number of words (among top max_features most common words)\n",
    "batch_size = 32\n",
    "\n",
    "print('Loading data...')\n",
    "(X_train, y_train), (X_test, y_test) = imdb.load_data(nb_words=max_features)\n",
    "print(len(X_train), 'train sequences')\n",
    "print(len(X_test), 'test sequences')\n",
    "\n",
    "print (X_train[0])\n",
    "\n",
    "print('Pad sequences (samples x time)')\n",
    "X_train = sequence.pad_sequences(X_train, maxlen=maxlen)\n",
    "X_test = sequence.pad_sequences(X_test, maxlen=maxlen)\n",
    "print('X_train shape:', X_train.shape)\n",
    "print('X_test shape:', X_test.shape)\n",
    "\n",
    "print('Build model...')\n",
    "\n",
    "\n",
    "inputs = Input(shape=(maxlen,))\n",
    "x = inputs\n",
    "x = Embedding(max_features, 128, dropout=0.2)(x)\n",
    "x = Flatten()(x)\n",
    "x = Dense(1)(x)\n",
    "predictions = Activation(\"sigmoid\")(x)\n",
    "\n",
    "\n",
    "model = Model(input=inputs, output=predictions)\n",
    "model.compile(loss='binary_crossentropy',\n",
    "              optimizer='adam',\n",
    "              metrics=['accuracy'])\n",
    "\n",
    "print('Train...')\n",
    "model.fit(X_train, y_train, batch_size=batch_size, nb_epoch=15,\n",
    "          validation_data=(X_test, y_test))\n",
    "score, acc = model.evaluate(X_test, y_test,\n",
    "                            batch_size=batch_size)\n",
    "print('Test score:', score)\n",
    "print('Test accuracy:', acc)"
   ]
  },
  {
   "cell_type": "code",
   "execution_count": null,
   "metadata": {},
   "outputs": [
    {
     "name": "stdout",
     "output_type": "stream",
     "text": [
      "Loading data...\n"
     ]
    }
   ],
   "source": [
    "\n",
    "max_features = 20000\n",
    "maxlen = 80  # cut texts after this number of words (among top max_features most common words)\n",
    "batch_size = 32\n",
    "\n",
    "print('Loading data...')\n",
    "(X_train, y_train), (X_test, y_test) = imdb.load_data(nb_words=max_features)\n",
    "print(len(X_train), 'train sequences')\n",
    "print(len(X_test), 'test sequences')\n",
    "\n",
    "print (X_train[0])\n",
    "\n",
    "print('Pad sequences (samples x time)')\n",
    "X_train = sequence.pad_sequences(X_train, maxlen=maxlen)\n",
    "X_test = sequence.pad_sequences(X_test, maxlen=maxlen)\n",
    "print('X_train shape:', X_train.shape)\n",
    "print('X_test shape:', X_test.shape)\n",
    "\n",
    "print('Build model...')\n",
    "\n",
    "\n",
    "inputs = Input(shape=(maxlen,))\n",
    "x = inputs\n",
    "x = Embedding(max_features, 128, dropout=0.2)(x)\n",
    "# x = Dense(64, activation='relu')(x)\n",
    "# x = Dropout(0.5)(x)\n",
    "\n",
    "# start convolution\n",
    "\n",
    "# x = (Convolution1D(128, maxlen))(x)\n",
    "# x = PReLU()(x)\n",
    "# x = (GlobalMaxPooling1D())(x)\n",
    "#  end\n",
    "\n",
    "x = (LSTM(128, dropout_W=0.2, dropout_U=0.2))(x)\n",
    "# x = Flatten()(x)\n",
    "x = Dense(1)(x)\n",
    "predictions = Activation(\"sigmoid\")(x)\n",
    "\n",
    "\n",
    "model = Model(input=inputs, output=predictions)\n",
    "\n",
    "# model.compile(loss='binary_crossentropy',\n",
    "#               optimizer='adam',\n",
    "#               metrics=['accuracy'])\n",
    "\n",
    "# print('Train...')\n",
    "# model.fit(X_train, y_train, batch_size=batch_size, nb_epoch=15,\n",
    "#           validation_data=(X_test, y_test))\n",
    "# score, acc = model.evaluate(X_test, y_test,\n",
    "#                             batch_size=batch_size)\n",
    "# print('Test score:', score)\n",
    "# print('Test accuracy:', acc)\n"
   ]
  },
  {
   "cell_type": "code",
   "execution_count": null,
   "metadata": {},
   "outputs": [],
   "source": []
  }
 ],
 "metadata": {
  "kernelspec": {
   "display_name": "Python 2",
   "language": "python",
   "name": "python2"
  },
  "language_info": {
   "codemirror_mode": {
    "name": "ipython",
    "version": 2
   },
   "file_extension": ".py",
   "mimetype": "text/x-python",
   "name": "python",
   "nbconvert_exporter": "python",
   "pygments_lexer": "ipython2",
   "version": "2.7.14"
  }
 },
 "nbformat": 4,
 "nbformat_minor": 2
}
