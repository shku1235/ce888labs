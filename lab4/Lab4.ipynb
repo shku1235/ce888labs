{
 "cells": [
  {
   "cell_type": "code",
   "execution_count": 21,
   "metadata": {},
   "outputs": [],
   "source": [
    "import pandas as pd\n",
    "import random\n",
    "import numpy as np"
   ]
  },
  {
   "cell_type": "code",
   "execution_count": 22,
   "metadata": {},
   "outputs": [],
   "source": [
    "df = pd.read_csv(\"./jester-data-1.csv\", header = None, delimiter = \",\")"
   ]
  },
  {
   "cell_type": "code",
   "execution_count": 23,
   "metadata": {},
   "outputs": [
    {
     "data": {
      "text/html": [
       "<div>\n",
       "<style scoped>\n",
       "    .dataframe tbody tr th:only-of-type {\n",
       "        vertical-align: middle;\n",
       "    }\n",
       "\n",
       "    .dataframe tbody tr th {\n",
       "        vertical-align: top;\n",
       "    }\n",
       "\n",
       "    .dataframe thead th {\n",
       "        text-align: right;\n",
       "    }\n",
       "</style>\n",
       "<table border=\"1\" class=\"dataframe\">\n",
       "  <thead>\n",
       "    <tr style=\"text-align: right;\">\n",
       "      <th></th>\n",
       "      <th>0</th>\n",
       "      <th>1</th>\n",
       "      <th>2</th>\n",
       "      <th>3</th>\n",
       "      <th>4</th>\n",
       "      <th>5</th>\n",
       "      <th>6</th>\n",
       "      <th>7</th>\n",
       "      <th>8</th>\n",
       "      <th>9</th>\n",
       "      <th>...</th>\n",
       "      <th>91</th>\n",
       "      <th>92</th>\n",
       "      <th>93</th>\n",
       "      <th>94</th>\n",
       "      <th>95</th>\n",
       "      <th>96</th>\n",
       "      <th>97</th>\n",
       "      <th>98</th>\n",
       "      <th>99</th>\n",
       "      <th>100</th>\n",
       "    </tr>\n",
       "  </thead>\n",
       "  <tbody>\n",
       "    <tr>\n",
       "      <th>0</th>\n",
       "      <td>74</td>\n",
       "      <td>-7.82</td>\n",
       "      <td>8.79</td>\n",
       "      <td>-9.66</td>\n",
       "      <td>-8.16</td>\n",
       "      <td>-7.52</td>\n",
       "      <td>-8.50</td>\n",
       "      <td>-9.85</td>\n",
       "      <td>4.17</td>\n",
       "      <td>-8.98</td>\n",
       "      <td>...</td>\n",
       "      <td>2.82</td>\n",
       "      <td>99.00</td>\n",
       "      <td>99.00</td>\n",
       "      <td>99.00</td>\n",
       "      <td>99.00</td>\n",
       "      <td>99.00</td>\n",
       "      <td>-5.63</td>\n",
       "      <td>99.00</td>\n",
       "      <td>99.00</td>\n",
       "      <td>99.00</td>\n",
       "    </tr>\n",
       "    <tr>\n",
       "      <th>1</th>\n",
       "      <td>100</td>\n",
       "      <td>4.08</td>\n",
       "      <td>-0.29</td>\n",
       "      <td>6.36</td>\n",
       "      <td>4.37</td>\n",
       "      <td>-2.38</td>\n",
       "      <td>-9.66</td>\n",
       "      <td>-0.73</td>\n",
       "      <td>-5.34</td>\n",
       "      <td>8.88</td>\n",
       "      <td>...</td>\n",
       "      <td>2.82</td>\n",
       "      <td>-4.95</td>\n",
       "      <td>-0.29</td>\n",
       "      <td>7.86</td>\n",
       "      <td>-0.19</td>\n",
       "      <td>-2.14</td>\n",
       "      <td>3.06</td>\n",
       "      <td>0.34</td>\n",
       "      <td>-4.32</td>\n",
       "      <td>1.07</td>\n",
       "    </tr>\n",
       "    <tr>\n",
       "      <th>2</th>\n",
       "      <td>49</td>\n",
       "      <td>99.00</td>\n",
       "      <td>99.00</td>\n",
       "      <td>99.00</td>\n",
       "      <td>99.00</td>\n",
       "      <td>9.03</td>\n",
       "      <td>9.27</td>\n",
       "      <td>9.03</td>\n",
       "      <td>9.27</td>\n",
       "      <td>99.00</td>\n",
       "      <td>...</td>\n",
       "      <td>99.00</td>\n",
       "      <td>99.00</td>\n",
       "      <td>99.00</td>\n",
       "      <td>9.08</td>\n",
       "      <td>99.00</td>\n",
       "      <td>99.00</td>\n",
       "      <td>99.00</td>\n",
       "      <td>99.00</td>\n",
       "      <td>99.00</td>\n",
       "      <td>99.00</td>\n",
       "    </tr>\n",
       "    <tr>\n",
       "      <th>3</th>\n",
       "      <td>48</td>\n",
       "      <td>99.00</td>\n",
       "      <td>8.35</td>\n",
       "      <td>99.00</td>\n",
       "      <td>99.00</td>\n",
       "      <td>1.80</td>\n",
       "      <td>8.16</td>\n",
       "      <td>-2.82</td>\n",
       "      <td>6.21</td>\n",
       "      <td>99.00</td>\n",
       "      <td>...</td>\n",
       "      <td>99.00</td>\n",
       "      <td>99.00</td>\n",
       "      <td>99.00</td>\n",
       "      <td>0.53</td>\n",
       "      <td>99.00</td>\n",
       "      <td>99.00</td>\n",
       "      <td>99.00</td>\n",
       "      <td>99.00</td>\n",
       "      <td>99.00</td>\n",
       "      <td>99.00</td>\n",
       "    </tr>\n",
       "    <tr>\n",
       "      <th>4</th>\n",
       "      <td>91</td>\n",
       "      <td>8.50</td>\n",
       "      <td>4.61</td>\n",
       "      <td>-4.17</td>\n",
       "      <td>-5.39</td>\n",
       "      <td>1.36</td>\n",
       "      <td>1.60</td>\n",
       "      <td>7.04</td>\n",
       "      <td>4.61</td>\n",
       "      <td>-0.44</td>\n",
       "      <td>...</td>\n",
       "      <td>5.19</td>\n",
       "      <td>5.58</td>\n",
       "      <td>4.27</td>\n",
       "      <td>5.19</td>\n",
       "      <td>5.73</td>\n",
       "      <td>1.55</td>\n",
       "      <td>3.11</td>\n",
       "      <td>6.55</td>\n",
       "      <td>1.80</td>\n",
       "      <td>1.60</td>\n",
       "    </tr>\n",
       "  </tbody>\n",
       "</table>\n",
       "<p>5 rows × 101 columns</p>\n",
       "</div>"
      ],
      "text/plain": [
       "   0      1      2      3      4     5     6     7     8      9    ...    \\\n",
       "0   74  -7.82   8.79  -9.66  -8.16 -7.52 -8.50 -9.85  4.17  -8.98  ...     \n",
       "1  100   4.08  -0.29   6.36   4.37 -2.38 -9.66 -0.73 -5.34   8.88  ...     \n",
       "2   49  99.00  99.00  99.00  99.00  9.03  9.27  9.03  9.27  99.00  ...     \n",
       "3   48  99.00   8.35  99.00  99.00  1.80  8.16 -2.82  6.21  99.00  ...     \n",
       "4   91   8.50   4.61  -4.17  -5.39  1.36  1.60  7.04  4.61  -0.44  ...     \n",
       "\n",
       "     91     92     93     94     95     96     97     98     99     100  \n",
       "0   2.82  99.00  99.00  99.00  99.00  99.00  -5.63  99.00  99.00  99.00  \n",
       "1   2.82  -4.95  -0.29   7.86  -0.19  -2.14   3.06   0.34  -4.32   1.07  \n",
       "2  99.00  99.00  99.00   9.08  99.00  99.00  99.00  99.00  99.00  99.00  \n",
       "3  99.00  99.00  99.00   0.53  99.00  99.00  99.00  99.00  99.00  99.00  \n",
       "4   5.19   5.58   4.27   5.19   5.73   1.55   3.11   6.55   1.80   1.60  \n",
       "\n",
       "[5 rows x 101 columns]"
      ]
     },
     "execution_count": 23,
     "metadata": {},
     "output_type": "execute_result"
    }
   ],
   "source": [
    "df.head()"
   ]
  },
  {
   "cell_type": "code",
   "execution_count": 24,
   "metadata": {},
   "outputs": [
    {
     "name": "stdout",
     "output_type": "stream",
     "text": [
      "(24983, 101)\n",
      "row length = 24983\n",
      "101\n"
     ]
    }
   ],
   "source": [
    "print(df.shape)\n",
    "\n",
    "# ROW. \n",
    "row_length = len(df.iloc[:,0])\n",
    "print(\"row length = \" + str(row_length))\n",
    "# OR: df.shape[0]\n",
    "\n",
    "# COLUMN. \n",
    "column_length = len(df.iloc[0])\n",
    "print(column_length)\n",
    "# OR: df.shape[1]"
   ]
  },
  {
   "cell_type": "code",
   "execution_count": 25,
   "metadata": {},
   "outputs": [
    {
     "name": "stdout",
     "output_type": "stream",
     "text": [
      "Count of number that are 99 = 687926\n"
     ]
    }
   ],
   "source": [
    "# Count numbers that are 99 in data. \n",
    "count99_array = (df.iloc[:,:] == 99).sum()\n",
    "count99 = count99_array.sum()\n",
    "print(\"Count of number that are 99 = \" + str(count99))"
   ]
  },
  {
   "cell_type": "code",
   "execution_count": 26,
   "metadata": {},
   "outputs": [
    {
     "name": "stdout",
     "output_type": "stream",
     "text": [
      "Percent 99 in data = 27.53576431973742\n"
     ]
    }
   ],
   "source": [
    "# Calculate percent of numbers that are 99.\n",
    "percent99 = count99 / row_length\n",
    "print(\"Percent 99 in data = \" + str(percent99))"
   ]
  },
  {
   "cell_type": "code",
   "execution_count": 27,
   "metadata": {},
   "outputs": [
    {
     "name": "stdout",
     "output_type": "stream",
     "text": [
      "Count of non 99 numbers = 1835357\n"
     ]
    }
   ],
   "source": [
    "# Count of non-99 numbers. \n",
    "non99_count = (row_length * column_length) - count99\n",
    "print(\"Count of non 99 numbers = \" + str(non99_count))"
   ]
  },
  {
   "cell_type": "code",
   "execution_count": 28,
   "metadata": {},
   "outputs": [],
   "source": [
    "# Copy dataframe. \n",
    "df_copy = df.copy()"
   ]
  },
  {
   "cell_type": "code",
   "execution_count": 29,
   "metadata": {},
   "outputs": [
    {
     "name": "stdout",
     "output_type": "stream",
     "text": [
      "number of new 99 = 183536.0\n"
     ]
    }
   ],
   "source": [
    "# Construct training data. \n",
    "number_of_new99 = round(non99_count * 0.1)\n",
    "print(\"number of new 99 = \" + str(number_of_new99))"
   ]
  },
  {
   "cell_type": "code",
   "execution_count": 30,
   "metadata": {},
   "outputs": [],
   "source": [
    "# Change random numbers to 99 in the copied data. \n",
    "counter = number_of_new99\n",
    "while counter > 0:\n",
    "    rnd_row = random.randint(0, row_length - 1)\n",
    "    rnd_column = random.randint(0, column_length - 1)\n",
    "    if df_copy.iloc[rnd_row][rnd_column] != 99:\n",
    "        df_copy.at[rnd_row, rnd_column] = 99\n",
    "        counter -= 1"
   ]
  },
  {
   "cell_type": "code",
   "execution_count": 31,
   "metadata": {},
   "outputs": [
    {
     "name": "stdout",
     "output_type": "stream",
     "text": [
      "Count of number that are 99 = 871462\n"
     ]
    }
   ],
   "source": [
    "# Count new numbers that are 99 in copied data. \n",
    "count99_array_2 = (df_copy.iloc[:,:] == 99).sum()\n",
    "count99_2 = count99_array_2.sum()\n",
    "print(\"Count of number that are 99 = \" + str(count99_2))"
   ]
  },
  {
   "cell_type": "code",
   "execution_count": 77,
   "metadata": {},
   "outputs": [],
   "source": [
    "# Generate some random weights. \n",
    "\n",
    "# TODO: Why us this = 2?\n",
    "n_features = 2\n",
    "\n",
    "user_ratings = df_copy.values\n",
    "latent_user_preferences = np.random.random((user_ratings.shape[0], n_features))\n",
    "latent_item_features = np.random.random((user_ratings.shape[1],n_features))"
   ]
  },
  {
   "cell_type": "code",
   "execution_count": 78,
   "metadata": {},
   "outputs": [
    {
     "data": {
      "text/plain": [
       "array([[ 74.  ,  -7.82,  99.  , ...,  99.  ,  99.  ,  99.  ],\n",
       "       [100.  ,   4.08,  -0.29, ...,   0.34,  -4.32,   1.07],\n",
       "       [ 49.  ,  99.  ,  99.  , ...,  99.  ,  99.  ,  99.  ],\n",
       "       ...,\n",
       "       [ 39.  ,  99.  ,  99.  , ...,  99.  ,  99.  ,  99.  ],\n",
       "       [ 37.  ,  99.  ,  99.  , ...,  99.  ,  99.  ,  99.  ],\n",
       "       [ 72.  ,   2.43,   2.67, ...,  99.  ,  99.  ,  99.  ]])"
      ]
     },
     "execution_count": 78,
     "metadata": {},
     "output_type": "execute_result"
    }
   ],
   "source": [
    "user_ratings"
   ]
  },
  {
   "cell_type": "code",
   "execution_count": 79,
   "metadata": {},
   "outputs": [
    {
     "data": {
      "text/plain": [
       "array([[0.4552771 , 0.05177362],\n",
       "       [0.82511913, 0.0262485 ],\n",
       "       [0.97809441, 0.80988513],\n",
       "       ...,\n",
       "       [0.40123822, 0.46803585],\n",
       "       [0.93960024, 0.61245479],\n",
       "       [0.05159724, 0.92430726]])"
      ]
     },
     "execution_count": 79,
     "metadata": {},
     "output_type": "execute_result"
    }
   ],
   "source": [
    "latent_user_preferences"
   ]
  },
  {
   "cell_type": "code",
   "execution_count": 80,
   "metadata": {},
   "outputs": [
    {
     "data": {
      "text/plain": [
       "array([[0.53542866, 0.47936976],\n",
       "       [0.18112815, 0.93430029],\n",
       "       [0.34066096, 0.89193382],\n",
       "       [0.03619259, 0.47267378],\n",
       "       [0.15998641, 0.71321291],\n",
       "       [0.70407051, 0.83884932],\n",
       "       [0.77034782, 0.67652   ],\n",
       "       [0.90378617, 0.56905584],\n",
       "       [0.34242922, 0.07379558],\n",
       "       [0.83261199, 0.99162345],\n",
       "       [0.89913306, 0.04398479],\n",
       "       [0.525995  , 0.65453466],\n",
       "       [0.89470088, 0.86166966],\n",
       "       [0.74027387, 0.14392061],\n",
       "       [0.3165552 , 0.74480632],\n",
       "       [0.21947845, 0.84849713],\n",
       "       [0.44436886, 0.0745023 ],\n",
       "       [0.86784444, 0.74764309],\n",
       "       [0.28017414, 0.05417235],\n",
       "       [0.0140237 , 0.82332528],\n",
       "       [0.6263332 , 0.66206458],\n",
       "       [0.25149364, 0.09442458],\n",
       "       [0.81962551, 0.99841038],\n",
       "       [0.2182528 , 0.66405159],\n",
       "       [0.06138872, 0.36359541],\n",
       "       [0.42548386, 0.75304807],\n",
       "       [0.49866308, 0.09592866],\n",
       "       [0.7001028 , 0.50594865],\n",
       "       [0.57033003, 0.56990416],\n",
       "       [0.10673589, 0.88729802],\n",
       "       [0.42046636, 0.52806023],\n",
       "       [0.00755701, 0.22090261],\n",
       "       [0.37944816, 0.74937606],\n",
       "       [0.77924211, 0.05896072],\n",
       "       [0.1081763 , 0.22563355],\n",
       "       [0.41266041, 0.2406606 ],\n",
       "       [0.3582791 , 0.79900274],\n",
       "       [0.9475966 , 0.44980432],\n",
       "       [0.86927725, 0.51898968],\n",
       "       [0.3247367 , 0.57346198],\n",
       "       [0.93256569, 0.76935482],\n",
       "       [0.45919841, 0.17895339],\n",
       "       [0.46086631, 0.59139141],\n",
       "       [0.51769722, 0.80194389],\n",
       "       [0.56768759, 0.90102532],\n",
       "       [0.99562229, 0.20939058],\n",
       "       [0.80857614, 0.60575344],\n",
       "       [0.87582796, 0.51819624],\n",
       "       [0.5052784 , 0.97743384],\n",
       "       [0.58261855, 0.33971949],\n",
       "       [0.72446619, 0.32143214],\n",
       "       [0.25781083, 0.80828772],\n",
       "       [0.18801467, 0.14767524],\n",
       "       [0.7782161 , 0.14204203],\n",
       "       [0.52736992, 0.89373423],\n",
       "       [0.92671377, 0.55968237],\n",
       "       [0.40707646, 0.80088209],\n",
       "       [0.75473949, 0.49199274],\n",
       "       [0.08324512, 0.59545195],\n",
       "       [0.4647064 , 0.03166035],\n",
       "       [0.51098493, 0.56877605],\n",
       "       [0.62125728, 0.1330248 ],\n",
       "       [0.1912294 , 0.82081978],\n",
       "       [0.7685864 , 0.57362016],\n",
       "       [0.99811774, 0.13422683],\n",
       "       [0.34235623, 0.87554911],\n",
       "       [0.8688089 , 0.01962405],\n",
       "       [0.72661279, 0.72919369],\n",
       "       [0.16883667, 0.29819022],\n",
       "       [0.83995843, 0.53256509],\n",
       "       [0.76190345, 0.91509565],\n",
       "       [0.08605291, 0.67320156],\n",
       "       [0.86476591, 0.87977442],\n",
       "       [0.80865813, 0.09505163],\n",
       "       [0.44510515, 0.84691837],\n",
       "       [0.11754818, 0.05058029],\n",
       "       [0.12676477, 0.01629964],\n",
       "       [0.1960716 , 0.28222211],\n",
       "       [0.10002867, 0.58301303],\n",
       "       [0.50750475, 0.93725227],\n",
       "       [0.33821459, 0.3045452 ],\n",
       "       [0.11354991, 0.74463506],\n",
       "       [0.69514822, 0.59950198],\n",
       "       [0.91795652, 0.53632658],\n",
       "       [0.27695152, 0.78649002],\n",
       "       [0.58741001, 0.0362449 ],\n",
       "       [0.83610869, 0.71655232],\n",
       "       [0.8353915 , 0.73928052],\n",
       "       [0.48542207, 0.71038777],\n",
       "       [0.93016121, 0.65922355],\n",
       "       [0.61611199, 0.159932  ],\n",
       "       [0.9533747 , 0.98229575],\n",
       "       [0.38663081, 0.82958059],\n",
       "       [0.19931353, 0.75217806],\n",
       "       [0.37136919, 0.57959731],\n",
       "       [0.27670433, 0.72227123],\n",
       "       [0.80212242, 0.09196888],\n",
       "       [0.10039134, 0.16715953],\n",
       "       [0.09839224, 0.7356178 ],\n",
       "       [0.46534215, 0.94569864],\n",
       "       [0.1604048 , 0.70563574]])"
      ]
     },
     "execution_count": 80,
     "metadata": {},
     "output_type": "execute_result"
    }
   ],
   "source": [
    "latent_item_features"
   ]
  },
  {
   "cell_type": "code",
   "execution_count": 189,
   "metadata": {},
   "outputs": [],
   "source": [
    "#to1 = latent_user_preferences.shape[0]\n",
    "#to2 = latent_item_features[0]\n",
    "to1 = 100 # 100 first jokes. \n",
    "to2 = 101 # 101 features. \n",
    "alpha = 0.001"
   ]
  },
  {
   "cell_type": "code",
   "execution_count": 190,
   "metadata": {},
   "outputs": [],
   "source": [
    "import math\n",
    "def predict_rating(user_id, item_id):\n",
    "    user_preference = latent_user_preferences[user_id]\n",
    "    item_preference = latent_item_features[item_id]\n",
    "    ret = user_preference.dot(item_preference)\n",
    "    return ret\n",
    "\n",
    "def train(user_id, item_id, rating, alpha = alpha):\n",
    "    prediction_rating = predict_rating(user_id, item_id)\n",
    "    err = alpha * (rating - prediction_rating)\n",
    "    latent_user_preferences[user_id] += err * latent_item_features[item_id]\n",
    "    latent_item_features[item_id] += err * latent_user_preferences[user_id]\n",
    "    return err\n",
    "\n",
    "def sgd(iterations = 1):\n",
    "    print(\"start sgd\")\n",
    "    for iteration in range(0, iterations):\n",
    "        error = []\n",
    "        for user_id in range(0, to1):\n",
    "            for item_id in range(0, to2):\n",
    "                rating = user_ratings[user_id][item_id]\n",
    "                if(not np.isnan(rating) and rating < 99):\n",
    "                    err = train(user_id, item_id, rating)\n",
    "                    error.append(err)\n",
    "        mse = (np.array(error) ** 2).mean()\n",
    "        if(iteration % 10 == 0):\n",
    "            print(mse)"
   ]
  },
  {
   "cell_type": "code",
   "execution_count": 191,
   "metadata": {},
   "outputs": [
    {
     "name": "stdout",
     "output_type": "stream",
     "text": [
      "start sgd\n",
      "5.8025510005946276e-05\n",
      "2.3654850344928648e-05\n",
      "2.292991678792611e-05\n",
      "2.157623692712603e-05\n",
      "1.9453956953141073e-05\n",
      "1.838391925148656e-05\n",
      "1.792157569730573e-05\n",
      "1.7723633253662306e-05\n",
      "1.7626677603709146e-05\n",
      "1.757124695388066e-05\n"
     ]
    }
   ],
   "source": [
    "# Reset arrays (due to bug...)\n",
    "latent_user_preferences = np.random.random((user_ratings.shape[0], n_features))\n",
    "latent_item_features = np.random.random((user_ratings.shape[1],n_features))\n",
    "\n",
    "# Run sgd\n",
    "sgd(100)"
   ]
  },
  {
   "cell_type": "code",
   "execution_count": 192,
   "metadata": {},
   "outputs": [
    {
     "data": {
      "text/plain": [
       "array([[ 7.70639831e+01, -5.34077653e+00, -5.09839683e+00, ...,\n",
       "        -9.54424655e-01, -3.32398011e+00, -5.14346085e-01],\n",
       "       [-1.11954959e+01,  3.96636429e+00,  4.16852637e+00, ...,\n",
       "         1.49833361e+00,  2.52906187e+00,  1.84391420e+00],\n",
       "       [ 4.88909359e+01,  8.40976699e+00,  9.44132104e+00, ...,\n",
       "         4.42244422e+00,  5.45771938e+00,  6.21597529e+00],\n",
       "       ...,\n",
       "       [ 1.31432597e+01,  1.45901534e+00,  1.67667414e+00, ...,\n",
       "         8.47190594e-01,  9.52986941e-01,  1.22643173e+00],\n",
       "       [ 1.77879096e+01,  1.10124772e+00,  1.33084535e+00, ...,\n",
       "         7.74377012e-01,  7.29640168e-01,  1.17553649e+00],\n",
       "       [ 1.84194692e+01, -1.32274471e-01,  1.07911234e-02, ...,\n",
       "         2.59521192e-01, -6.06318938e-02,  5.11576868e-01]])"
      ]
     },
     "execution_count": 192,
     "metadata": {},
     "output_type": "execute_result"
    }
   ],
   "source": [
    "# Just prediction. \n",
    "predictions = latent_user_preferences.dot(latent_item_features.T)\n",
    "predictions"
   ]
  },
  {
   "cell_type": "code",
   "execution_count": 197,
   "metadata": {},
   "outputs": [
    {
     "name": "stdout",
     "output_type": "stream",
     "text": [
      "Number of tests: 3490\n",
      "MSE = 0.00951848160929006\n"
     ]
    }
   ],
   "source": [
    "# Validate the model. \n",
    "error = []\n",
    "for user_id in range(0, to1):\n",
    "    for item_id in range(0, to2):\n",
    "        rating = user_ratings[user_id][item_id]\n",
    "        if(not np.isnan(rating) and rating >= 99):\n",
    "            # Predict\n",
    "            prediction_rating = predict_rating(user_id, item_id)\n",
    "            # Calculate error. \n",
    "            err = alpha * (rating - prediction_rating)\n",
    "            error.append(err)\n",
    "\n",
    "# Evaluate using MSE\n",
    "mse = (np.array(error) ** 2).mean()\n",
    "print(\"Number of tests: \" + str(len(error)))\n",
    "print(\"MSE = \" + str(mse))"
   ]
  },
  {
   "cell_type": "code",
   "execution_count": null,
   "metadata": {},
   "outputs": [],
   "source": []
  }
 ],
 "metadata": {
  "kernelspec": {
   "display_name": "Python 3",
   "language": "python",
   "name": "python3"
  },
  "language_info": {
   "codemirror_mode": {
    "name": "ipython",
    "version": 3
   },
   "file_extension": ".py",
   "mimetype": "text/x-python",
   "name": "python",
   "nbconvert_exporter": "python",
   "pygments_lexer": "ipython3",
   "version": "3.5.1"
  }
 },
 "nbformat": 4,
 "nbformat_minor": 2
}
