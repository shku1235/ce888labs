{
 "cells": [
  {
   "cell_type": "code",
   "execution_count": 149,
   "metadata": {},
   "outputs": [],
   "source": [
    "import matplotlib\n",
    "import numpy as np\n",
    "import matplotlib.pyplot as plt\n",
    "import pandas as pd\n",
    "import seaborn as sns\n",
    "import itertools\n",
    "\n",
    "# SKLEARN\n",
    "from sklearn.ensemble import RandomForestClassifier\n",
    "from sklearn.model_selection import cross_val_score\n",
    "from sklearn.metrics import confusion_matrix"
   ]
  },
  {
   "cell_type": "code",
   "execution_count": 150,
   "metadata": {},
   "outputs": [],
   "source": [
    "df = pd.read_csv(\"./bank-additional-full.csv\", delimiter = \";\")"
   ]
  },
  {
   "cell_type": "code",
   "execution_count": 151,
   "metadata": {},
   "outputs": [],
   "source": [
    "df_dummies = pd.get_dummies(df)\n",
    "df_dummies = df_dummies.drop([\"y_no\", \"duration\"], axis=1)"
   ]
  },
  {
   "cell_type": "code",
   "execution_count": 152,
   "metadata": {},
   "outputs": [],
   "source": [
    "features = list(df_dummies.drop([\"y_yes\"], axis = 1))\n",
    "target = \"y_yes\""
   ]
  },
  {
   "cell_type": "code",
   "execution_count": 153,
   "metadata": {},
   "outputs": [
    {
     "data": {
      "image/png": "[encoded data removed]",
      "text/plain": [
       "<matplotlib.figure.Figure at 0x118d12080>"
      ]
     },
     "metadata": {},
     "output_type": "display_data"
    }
   ],
   "source": [
    "# Plot histogram.\n",
    "x = np.array(df_dummies[\"y_yes\"])\n",
    "sns.distplot(x, kde = False, rug = False);"
   ]
  },
  {
   "cell_type": "code",
   "execution_count": 154,
   "metadata": {},
   "outputs": [],
   "source": [
    "clf = RandomForestClassifier(n_estimators = 10)"
   ]
  },
  {
   "cell_type": "code",
   "execution_count": 155,
   "metadata": {},
   "outputs": [],
   "source": [
    "x = df_dummies.drop(\"y_yes\", axis = 1)\n",
    "y = df_dummies[\"y_yes\"]\n",
    "cross_val_array = cross_val_score(clf, x, y, cv = 10)"
   ]
  },
  {
   "cell_type": "markdown",
   "metadata": {},
   "source": [
    "Results of 10-fold stratified cross-validation"
   ]
  },
  {
   "cell_type": "code",
   "execution_count": 156,
   "metadata": {},
   "outputs": [
    {
     "name": "stdout",
     "output_type": "stream",
     "text": [
      "[0.89 0.87 0.45 0.79 0.75 0.5  0.28 0.1  0.42 0.2 ]\n"
     ]
    }
   ],
   "source": [
    "print(cross_val_array)"
   ]
  },
  {
   "cell_type": "code",
   "execution_count": 157,
   "metadata": {},
   "outputs": [
    {
     "data": {
      "text/plain": [
       "RandomForestClassifier(bootstrap=True, class_weight=None, criterion='gini',\n",
       "            max_depth=None, max_features='auto', max_leaf_nodes=None,\n",
       "            min_impurity_decrease=0.0, min_impurity_split=None,\n",
       "            min_samples_leaf=1, min_samples_split=2,\n",
       "            min_weight_fraction_leaf=0.0, n_estimators=10, n_jobs=1,\n",
       "            oob_score=False, random_state=None, verbose=0,\n",
       "            warm_start=False)"
      ]
     },
     "execution_count": 157,
     "metadata": {},
     "output_type": "execute_result"
    }
   ],
   "source": [
    "clf.fit(x,y)"
   ]
  },
  {
   "cell_type": "code",
   "execution_count": null,
   "metadata": {},
   "outputs": [],
   "source": []
  },
  {
   "cell_type": "code",
   "execution_count": 158,
   "metadata": {},
   "outputs": [
    {
     "name": "stdout",
     "output_type": "stream",
     "text": [
      "Feature ranking:\n",
      "1. age (0.161520)\n",
      "2. euribor3m (0.132194)\n",
      "3. campaign (0.085482)\n",
      "4. cons.conf.idx (0.042303)\n",
      "5. cons.price.idx (0.029178)\n",
      "6. pdays (0.026184)\n",
      "7. housing_yes (0.022607)\n",
      "8. poutcome_success (0.022361)\n",
      "9. housing_no (0.020159)\n",
      "10. emp.var.rate (0.018596)\n",
      "11. job_admin. (0.018442)\n",
      "12. nr.employed (0.017440)\n",
      "13. marital_married (0.016863)\n",
      "14. education_high.school (0.016801)\n",
      "15. education_university.degree (0.016352)\n",
      "16. previous (0.015988)\n",
      "17. poutcome_nonexistent (0.015293)\n",
      "18. day_of_week_thu (0.014655)\n",
      "19. day_of_week_wed (0.014557)\n",
      "20. marital_single (0.014547)\n",
      "21. day_of_week_mon (0.014480)\n",
      "22. day_of_week_fri (0.014227)\n",
      "23. job_technician (0.013962)\n",
      "24. day_of_week_tue (0.013716)\n",
      "25. loan_no (0.013564)\n",
      "26. loan_yes (0.012956)\n",
      "27. education_professional.course (0.012103)\n",
      "28. job_blue-collar (0.011829)\n",
      "29. education_basic.9y (0.011260)\n",
      "30. marital_divorced (0.010775)\n",
      "31. job_management (0.009070)\n",
      "32. job_services (0.008618)\n",
      "33. contact_cellular (0.008327)\n",
      "34. education_basic.4y (0.007686)\n",
      "35. default_no (0.007486)\n",
      "36. poutcome_failure (0.007398)\n",
      "37. contact_telephone (0.007346)\n",
      "38. default_unknown (0.006982)\n",
      "39. education_unknown (0.006910)\n",
      "40. job_retired (0.006793)\n",
      "41. month_may (0.006723)\n",
      "42. job_self-employed (0.006021)\n",
      "43. education_basic.6y (0.005816)\n",
      "44. job_student (0.005449)\n",
      "45. job_entrepreneur (0.005393)\n",
      "46. month_apr (0.005099)\n",
      "47. job_unemployed (0.004935)\n",
      "48. month_oct (0.004405)\n",
      "49. job_housemaid (0.004375)\n",
      "50. month_mar (0.003368)\n",
      "51. month_jun (0.003092)\n",
      "52. loan_unknown (0.002895)\n",
      "53. month_aug (0.002709)\n",
      "54. housing_unknown (0.002511)\n",
      "55. month_jul (0.002366)\n",
      "56. job_unknown (0.002179)\n",
      "57. month_nov (0.001788)\n",
      "58. month_sep (0.001437)\n",
      "59. month_dec (0.001376)\n",
      "60. marital_unknown (0.000765)\n",
      "61. education_illiterate (0.000289)\n",
      "62. default_yes (0.000001)\n"
     ]
    }
   ],
   "source": [
    "importances = clf.feature_importances_\n",
    "std = np.std(\n",
    "    [tree.feature_importances_ for tree in clf.estimators_],\n",
    "    axis=0\n",
    ")\n",
    "indices = np.argsort(importances)[::-1]\n",
    "print(\"Feature ranking:\")\n",
    "for f in range(x.shape[1]):\n",
    "    print(\"%d. %s (%f)\" % (f + 1, features[indices[f]], importances[indices[f]]))"
   ]
  },
  {
   "cell_type": "code",
   "execution_count": 159,
   "metadata": {},
   "outputs": [
    {
     "data": {
      "text/plain": [
       "(0, 0.19947327733585649)"
      ]
     },
     "execution_count": 159,
     "metadata": {},
     "output_type": "execute_result"
    },
    {
     "data": {
      "image/png": "[encoded data removed]",
      "text/plain": [
       "<matplotlib.figure.Figure at 0x118d125c0>"
      ]
     },
     "metadata": {},
     "output_type": "display_data"
    }
   ],
   "source": [
    "# Plot the feature importances of the forest\n",
    "fig = plt.figure()\n",
    "plt.title(\"Feature importances\")\n",
    "plt.bar(\n",
    "    range(x.shape[1]), \n",
    "    importances[indices],\n",
    "    color = \"r\", \n",
    "    yerr = std[indices], \n",
    "    align = \"center\"\n",
    ")\n",
    "plt.xticks(range(x.shape[1]), np.array(features)[indices])\n",
    "plt.xlim([-1, x.shape[1]])\n",
    "fig.set_size_inches(15,8)\n",
    "axes = plt.gca()\n",
    "axes.set_ylim([0,None])"
   ]
  },
  {
   "cell_type": "code",
   "execution_count": 160,
   "metadata": {},
   "outputs": [],
   "source": [
    "# Compute confusion matrix\n",
    "y_pred = clf.predict(x)\n",
    "cnf_matrix = confusion_matrix(y, y_pred)\n",
    "np.set_printoptions(precision=2)"
   ]
  },
  {
   "cell_type": "code",
   "execution_count": 161,
   "metadata": {},
   "outputs": [],
   "source": [
    "def plot_confusion_matrix(cm, classes,\n",
    "                          normalize=False,\n",
    "                          title='Confusion matrix',\n",
    "                          cmap=plt.cm.Blues):\n",
    "    \"\"\"\n",
    "    This function prints and plots the confusion matrix.\n",
    "    Normalization can be applied by setting `normalize=True`.\n",
    "    \"\"\"\n",
    "    if normalize:\n",
    "        cm = cm.astype('float') / cm.sum(axis=1)[:, np.newaxis]\n",
    "        print(\"Normalized confusion matrix\")\n",
    "    else:\n",
    "        print('Confusion matrix, without normalization')\n",
    "\n",
    "    print(cm)\n",
    "\n",
    "    plt.imshow(cm, interpolation='nearest', cmap=cmap)\n",
    "    plt.title(title)\n",
    "    plt.colorbar()\n",
    "    tick_marks = np.arange(len(classes))\n",
    "    plt.xticks(tick_marks, classes, rotation=45)\n",
    "    plt.yticks(tick_marks, classes)\n",
    "\n",
    "    fmt = '.2f' if normalize else 'd'\n",
    "    thresh = cm.max() / 2.\n",
    "    for i, j in itertools.product(range(cm.shape[0]), range(cm.shape[1])):\n",
    "        plt.text(j, i, format(cm[i, j], fmt),\n",
    "                 horizontalalignment=\"center\",\n",
    "                 color=\"white\" if cm[i, j] > thresh else \"black\")\n",
    "\n",
    "    plt.tight_layout()\n",
    "    plt.ylabel('True label')\n",
    "    plt.xlabel('Predicted label')"
   ]
  },
  {
   "cell_type": "code",
   "execution_count": 162,
   "metadata": {},
   "outputs": [
    {
     "name": "stdout",
     "output_type": "stream",
     "text": [
      "Normalized confusion matrix\n",
      "[[1.   0.  ]\n",
      " [0.15 0.85]]\n"
     ]
    },
    {
     "data": {
      "image/png": "[encoded data removed]",
      "text/plain": [
       "<matplotlib.figure.Figure at 0x116fcd7b8>"
      ]
     },
     "metadata": {},
     "output_type": "display_data"
    }
   ],
   "source": [
    "# Plot non-normalized confusion matrix\n",
    "plt.figure()\n",
    "plot_confusion_matrix(cnf_matrix, classes=range(len(set(y))), normalize = True,\n",
    "title='Confusion matrix')"
   ]
  }
 ],
 "metadata": {
  "kernelspec": {
   "display_name": "Python 3",
   "language": "python",
   "name": "python3"
  },
  "language_info": {
   "codemirror_mode": {
    "name": "ipython",
    "version": 3
   },
   "file_extension": ".py",
   "mimetype": "text/x-python",
   "name": "python",
   "nbconvert_exporter": "python",
   "pygments_lexer": "ipython3",
   "version": "3.5.1"
  }
 },
 "nbformat": 4,
 "nbformat_minor": 2
}
